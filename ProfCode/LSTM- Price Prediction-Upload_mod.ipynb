{
 "cells": [
  {
   "cell_type": "markdown",
   "metadata": {},
   "source": [
    "### <span style=\"color:brown\">Notebook Instructions</span>\n",
    "\n",
    "- <i>  <span style=\"color:#FFFF00; background:#00C000\"> <b> Please download the notebook available as downloads in the next unit. </b> It will not run in the browser.</i>\n",
    "- <i>  Assuming, you have Anaconda or some Python environment installed on your system, <span style=\"color:#FFFF00; background:#00C000\"> <b> you need to install Keras library. </b>. </i>\n",
    "- <i> <span style=\"color:#00C000\"> DNN models are very heavy and it is possible that your code will take time to run. Be patient and try again if required. Keep your CPU free of other burdens during the time of run! </i>\n",
    "\n"
   ]
  },
  {
   "cell_type": "markdown",
   "metadata": {},
   "source": [
    "### <span style=\"color:brown\">Data Pre- Processing</span>"
   ]
  },
  {
   "cell_type": "markdown",
   "metadata": {},
   "source": [
    "In this block of code we have downloaded the data and scaled it, just as we did in the DNN model."
   ]
  },
  {
   "cell_type": "code",
   "execution_count": 1,
   "metadata": {},
   "outputs": [
    {
     "data": {
      "text/html": [
       "<div>\n",
       "<style scoped>\n",
       "    .dataframe tbody tr th:only-of-type {\n",
       "        vertical-align: middle;\n",
       "    }\n",
       "\n",
       "    .dataframe tbody tr th {\n",
       "        vertical-align: top;\n",
       "    }\n",
       "\n",
       "    .dataframe thead th {\n",
       "        text-align: right;\n",
       "    }\n",
       "</style>\n",
       "<table border=\"1\" class=\"dataframe\">\n",
       "  <thead>\n",
       "    <tr style=\"text-align: right;\">\n",
       "      <th></th>\n",
       "      <th>Symbol</th>\n",
       "      <th>Series</th>\n",
       "      <th>Prev Close</th>\n",
       "      <th>Open</th>\n",
       "      <th>High</th>\n",
       "      <th>Low</th>\n",
       "      <th>Last</th>\n",
       "      <th>Close</th>\n",
       "      <th>VWAP</th>\n",
       "      <th>Volume</th>\n",
       "      <th>Turnover</th>\n",
       "      <th>Trades</th>\n",
       "      <th>Deliverable Volume</th>\n",
       "      <th>%Deliverble</th>\n",
       "    </tr>\n",
       "    <tr>\n",
       "      <th>Date</th>\n",
       "      <th></th>\n",
       "      <th></th>\n",
       "      <th></th>\n",
       "      <th></th>\n",
       "      <th></th>\n",
       "      <th></th>\n",
       "      <th></th>\n",
       "      <th></th>\n",
       "      <th></th>\n",
       "      <th></th>\n",
       "      <th></th>\n",
       "      <th></th>\n",
       "      <th></th>\n",
       "      <th></th>\n",
       "    </tr>\n",
       "  </thead>\n",
       "  <tbody>\n",
       "    <tr>\n",
       "      <th>2019-03-08</th>\n",
       "      <td>SBIN</td>\n",
       "      <td>EQ</td>\n",
       "      <td>281.75</td>\n",
       "      <td>0.657966</td>\n",
       "      <td>0.669786</td>\n",
       "      <td>0.646885</td>\n",
       "      <td>281.50</td>\n",
       "      <td>0.654765</td>\n",
       "      <td>282.38</td>\n",
       "      <td>0.068613</td>\n",
       "      <td>5.631654e+14</td>\n",
       "      <td>132214</td>\n",
       "      <td>7142794</td>\n",
       "      <td>0.3582</td>\n",
       "    </tr>\n",
       "    <tr>\n",
       "      <th>2019-03-11</th>\n",
       "      <td>SBIN</td>\n",
       "      <td>EQ</td>\n",
       "      <td>281.20</td>\n",
       "      <td>0.674957</td>\n",
       "      <td>0.693179</td>\n",
       "      <td>0.666092</td>\n",
       "      <td>286.95</td>\n",
       "      <td>0.685053</td>\n",
       "      <td>287.26</td>\n",
       "      <td>0.080078</td>\n",
       "      <td>6.587152e+14</td>\n",
       "      <td>133900</td>\n",
       "      <td>9195175</td>\n",
       "      <td>0.4010</td>\n",
       "    </tr>\n",
       "    <tr>\n",
       "      <th>2019-03-12</th>\n",
       "      <td>SBIN</td>\n",
       "      <td>EQ</td>\n",
       "      <td>287.35</td>\n",
       "      <td>0.694164</td>\n",
       "      <td>0.697611</td>\n",
       "      <td>0.677173</td>\n",
       "      <td>287.30</td>\n",
       "      <td>0.682837</td>\n",
       "      <td>287.68</td>\n",
       "      <td>0.072008</td>\n",
       "      <td>5.991832e+14</td>\n",
       "      <td>152809</td>\n",
       "      <td>9436728</td>\n",
       "      <td>0.4531</td>\n",
       "    </tr>\n",
       "    <tr>\n",
       "      <th>2019-03-13</th>\n",
       "      <td>SBIN</td>\n",
       "      <td>EQ</td>\n",
       "      <td>286.90</td>\n",
       "      <td>0.688747</td>\n",
       "      <td>0.719773</td>\n",
       "      <td>0.672002</td>\n",
       "      <td>293.85</td>\n",
       "      <td>0.713617</td>\n",
       "      <td>288.93</td>\n",
       "      <td>0.083126</td>\n",
       "      <td>6.855126e+14</td>\n",
       "      <td>129887</td>\n",
       "      <td>9798889</td>\n",
       "      <td>0.4130</td>\n",
       "    </tr>\n",
       "    <tr>\n",
       "      <th>2019-03-14</th>\n",
       "      <td>SBIN</td>\n",
       "      <td>EQ</td>\n",
       "      <td>293.15</td>\n",
       "      <td>0.720266</td>\n",
       "      <td>0.721251</td>\n",
       "      <td>0.701798</td>\n",
       "      <td>292.10</td>\n",
       "      <td>0.707461</td>\n",
       "      <td>292.34</td>\n",
       "      <td>0.054112</td>\n",
       "      <td>4.725415e+14</td>\n",
       "      <td>121789</td>\n",
       "      <td>5575090</td>\n",
       "      <td>0.3449</td>\n",
       "    </tr>\n",
       "  </tbody>\n",
       "</table>\n",
       "</div>"
      ],
      "text/plain": [
       "           Symbol Series  Prev Close      Open      High       Low    Last  \\\n",
       "Date                                                                         \n",
       "2019-03-08   SBIN     EQ      281.75  0.657966  0.669786  0.646885  281.50   \n",
       "2019-03-11   SBIN     EQ      281.20  0.674957  0.693179  0.666092  286.95   \n",
       "2019-03-12   SBIN     EQ      287.35  0.694164  0.697611  0.677173  287.30   \n",
       "2019-03-13   SBIN     EQ      286.90  0.688747  0.719773  0.672002  293.85   \n",
       "2019-03-14   SBIN     EQ      293.15  0.720266  0.721251  0.701798  292.10   \n",
       "\n",
       "               Close    VWAP    Volume      Turnover  Trades  \\\n",
       "Date                                                           \n",
       "2019-03-08  0.654765  282.38  0.068613  5.631654e+14  132214   \n",
       "2019-03-11  0.685053  287.26  0.080078  6.587152e+14  133900   \n",
       "2019-03-12  0.682837  287.68  0.072008  5.991832e+14  152809   \n",
       "2019-03-13  0.713617  288.93  0.083126  6.855126e+14  129887   \n",
       "2019-03-14  0.707461  292.34  0.054112  4.725415e+14  121789   \n",
       "\n",
       "            Deliverable Volume  %Deliverble  \n",
       "Date                                         \n",
       "2019-03-08             7142794       0.3582  \n",
       "2019-03-11             9195175       0.4010  \n",
       "2019-03-12             9436728       0.4531  \n",
       "2019-03-13             9798889       0.4130  \n",
       "2019-03-14             5575090       0.3449  "
      ]
     },
     "execution_count": 1,
     "metadata": {},
     "output_type": "execute_result"
    }
   ],
   "source": [
    "from nsepy import get_history\n",
    "from datetime import date\n",
    "import numpy as np\n",
    "import matplotlib.pyplot as plt\n",
    "from sklearn.preprocessing import MinMaxScaler\n",
    "import pandas as pd\n",
    "import warnings\n",
    "warnings.filterwarnings('ignore')\n",
    "\n",
    "start = date(2015,1,1)\n",
    "end= date.today()\n",
    "\n",
    "data = get_history(symbol=\"SBIN\", start=start, end=end)\n",
    "\n",
    "max_=data[['Open','High','Low','Close']].max().max()\n",
    "min_=data[['Open','High','Low','Close']].min().min()\n",
    "\n",
    "scl=MinMaxScaler()\n",
    "\n",
    "X1=(data[['Open','High','Low','Close']]-min_)/(max_-min_)\n",
    "X2=scl.fit_transform(data[['Volume']].values.reshape(-1,1))\n",
    "X1=np.array(X1)\n",
    "\n",
    "data=data.assign(Open=X1[:,0])\n",
    "data=data.assign(High=X1[:,1])\n",
    "data=data.assign(Low=X1[:,2])\n",
    "data=data.assign(Close=X1[:,3])\n",
    "data=data.assign(Volume=X2[:,0])\n",
    "data.tail()"
   ]
  },
  {
   "cell_type": "markdown",
   "metadata": {},
   "source": [
    "You can see that the OHLCV values have been updated"
   ]
  },
  {
   "cell_type": "markdown",
   "metadata": {},
   "source": [
    "### <span style=\"color:brown\"> Creating the input and target features"
   ]
  },
  {
   "cell_type": "markdown",
   "metadata": {},
   "source": [
    "Now,we will create a feature data set called  <font color =red>X</font> which will be used to create the input for the LSTM model.<br> \n",
    "\n",
    "Next, we create a dataset called <font color =red>y</font> which will contain the future close values.<br>\n",
    "\n",
    "The model will train to predict these values future close prices."
   ]
  },
  {
   "cell_type": "code",
   "execution_count": 2,
   "metadata": {},
   "outputs": [],
   "source": [
    "X=data[['Open','High','Low','Close','Volume']]\n",
    "y=data.Last.shift(-1)"
   ]
  },
  {
   "cell_type": "markdown",
   "metadata": {},
   "source": [
    "In this example, we have taken a timestep of 1 day to create the input data. This is very less compared to the 20 days data that we would have to give as input for an RNN. But you will be able to see that the LSTM is able to produce similar, if not better results, when compared to the RNN."
   ]
  },
  {
   "cell_type": "code",
   "execution_count": 3,
   "metadata": {},
   "outputs": [],
   "source": [
    "timestep=1\n",
    "X_list=[]\n",
    "y_list=[]\n",
    "for i in range(timestep,len(X)):\n",
    "    X_list.append(np.array(X.iloc[i-timestep:i]))\n",
    "    y_list.append(y.iloc[i:i+timestep].values)"
   ]
  },
  {
   "cell_type": "code",
   "execution_count": 4,
   "metadata": {},
   "outputs": [],
   "source": [
    "test_size=60\n",
    "X_train=np.array(X_list[:-test_size])\n",
    "y_train=np.expand_dims(np.array(y_list[:-test_size]),axis=2)\n",
    "X_test=np.array(X_list[-test_size:])\n",
    "y_test=np.expand_dims(np.array(y_list[-test_size:]),axis=2)"
   ]
  },
  {
   "cell_type": "markdown",
   "metadata": {},
   "source": [
    "### <span style=\"color:brown\">Creating an LSTM model"
   ]
  },
  {
   "cell_type": "markdown",
   "metadata": {},
   "source": [
    "First we import the necessary modules for the model from the keras library"
   ]
  },
  {
   "cell_type": "markdown",
   "metadata": {},
   "source": [
    "In this model, I have added a dropout layer with a 80% drop ratio. If you choose a model that it is not very deep then the chances of over-fitting are very less and you may not need a dropout layer. "
   ]
  },
  {
   "cell_type": "code",
   "execution_count": 5,
   "metadata": {},
   "outputs": [
    {
     "name": "stderr",
     "output_type": "stream",
     "text": [
      "Using TensorFlow backend.\n"
     ]
    }
   ],
   "source": [
    "from keras.layers import LSTM\n",
    "from keras.models import Sequential\n",
    "from keras.layers import Dropout\n",
    "from keras.layers import Dense\n",
    "from keras.callbacks import ModelCheckpoint\n",
    "# Please note that the number of neurons used in LSTM model is lesser than those in the RNN model\n",
    "neurons=200\n",
    "act='tanh'\n",
    "dropout_ratio=0.80"
   ]
  },
  {
   "cell_type": "markdown",
   "metadata": {},
   "source": [
    "Let us begin to build the model, as you might recall the first layer will always be a sequential one. Followed by an LSTM in this case, as we want to test a simple LSTM model to check the accuracy.\n",
    "\n",
    "After this, I have added a few Dense layers (fully connected Neural Network) along with the dropout layers.\n",
    "\n",
    "As the depth of the model increases, the model's ability to create complex features also increases. But, this often results in overfitting."
   ]
  },
  {
   "cell_type": "code",
   "execution_count": 6,
   "metadata": {
    "scrolled": true
   },
   "outputs": [],
   "source": [
    "model=Sequential()\n",
    "model.add(LSTM(4,input_shape=(X_train.shape[1],X_train.shape[2]),return_sequences=True))\n",
    "model.add(Dense(neurons,activation=act))\n",
    "model.add(Dropout(dropout_ratio))\n",
    "model.add(Dense(neurons*2,activation=act))\n",
    "model.add(Dropout(dropout_ratio))\n",
    "model.add(Dense(neurons*3,activation=act))\n",
    "model.add(Dropout(dropout_ratio))\n",
    "model.add(Dense(neurons*4,activation=act))\n",
    "model.add(Dropout(dropout_ratio))\n",
    "model.add(Dense(neurons*5,activation=act))\n",
    "model.add(Dropout(dropout_ratio))\n",
    "model.add(Dense(1))\n",
    "model.compile(loss='mean_squared_error', optimizer='adam', metrics = ['mse'])"
   ]
  },
  {
   "cell_type": "markdown",
   "metadata": {},
   "source": [
    "### <span style=\"color:brown\"> Saving and loading the model"
   ]
  },
  {
   "cell_type": "markdown",
   "metadata": {},
   "source": [
    "In Keras, we can save the best weights of the model by creating a checkpoint during the training of the model. To create a checkpoint, we specify the metric that needs to be monitored and saved accordingly. In this example, I have passed the validation set loss as the monitoring parameter, and specified the mode of saving as 'auto'. This means that the model will save the weights of the network whenever a now low value for the validation loss is generated. \n",
    "\n",
    "I have specified the file path as LSTM-weights-best.hdf5 to save the weights of the model.\n",
    "\n",
    "The verbose=1 parameter defines how much information about every batch training needs to be printed\n",
    "\n",
    "#### We strongly encourage you to change all the parameters discussed above to create your own models and test them out.\n",
    "\n",
    "Also, please be reasonable in specifying the depth and number of neurons in a model, else you may not get a result in reasonable time."
   ]
  },
  {
   "cell_type": "code",
   "execution_count": 7,
   "metadata": {},
   "outputs": [],
   "source": [
    "filepath=\"LSTM-weights-best.hdf5\"\n",
    "checkpoint = ModelCheckpoint(filepath, monitor='val_loss', verbose=1, save_best_only=True, mode='auto')"
   ]
  },
  {
   "cell_type": "markdown",
   "metadata": {},
   "source": [
    "Now let us visualize our model."
   ]
  },
  {
   "cell_type": "code",
   "execution_count": 8,
   "metadata": {},
   "outputs": [
    {
     "name": "stdout",
     "output_type": "stream",
     "text": [
      "_________________________________________________________________\n",
      "Layer (type)                 Output Shape              Param #   \n",
      "=================================================================\n",
      "lstm_1 (LSTM)                (None, 1, 4)              160       \n",
      "_________________________________________________________________\n",
      "dense_1 (Dense)              (None, 1, 200)            1000      \n",
      "_________________________________________________________________\n",
      "dropout_1 (Dropout)          (None, 1, 200)            0         \n",
      "_________________________________________________________________\n",
      "dense_2 (Dense)              (None, 1, 400)            80400     \n",
      "_________________________________________________________________\n",
      "dropout_2 (Dropout)          (None, 1, 400)            0         \n",
      "_________________________________________________________________\n",
      "dense_3 (Dense)              (None, 1, 600)            240600    \n",
      "_________________________________________________________________\n",
      "dropout_3 (Dropout)          (None, 1, 600)            0         \n",
      "_________________________________________________________________\n",
      "dense_4 (Dense)              (None, 1, 800)            480800    \n",
      "_________________________________________________________________\n",
      "dropout_4 (Dropout)          (None, 1, 800)            0         \n",
      "_________________________________________________________________\n",
      "dense_5 (Dense)              (None, 1, 1000)           801000    \n",
      "_________________________________________________________________\n",
      "dropout_5 (Dropout)          (None, 1, 1000)           0         \n",
      "_________________________________________________________________\n",
      "dense_6 (Dense)              (None, 1, 1)              1001      \n",
      "=================================================================\n",
      "Total params: 1,604,961\n",
      "Trainable params: 1,604,961\n",
      "Non-trainable params: 0\n",
      "_________________________________________________________________\n"
     ]
    }
   ],
   "source": [
    "model.summary()"
   ]
  },
  {
   "cell_type": "markdown",
   "metadata": {},
   "source": [
    "Now, its time to train the model.\n",
    "\n",
    "While training the model we have to specify the size of the batch, this indicates to the model how many train samples it should take in a single batch while training.\n",
    "\n",
    "The validation split randomly splits the train data to verify the performance of the model on untrained data.\n",
    "\n",
    "Epochs are the number of runs the model needs to make for the convergence of train and validation losses."
   ]
  },
  {
   "cell_type": "raw",
   "metadata": {
    "scrolled": true
   },
   "source": [
    "model.fit(X_train, y_train, epochs=100, batch_size=1, verbose=1, validation_split=0.2,callbacks=[checkpoint])"
   ]
  },
  {
   "cell_type": "markdown",
   "metadata": {},
   "source": [
    "Once we have generated the best weigths and saved them using the callback feature, we would want our final model to have this best weigths fitted before making the predictions on the test data. So, we load these weights using the load_weights function."
   ]
  },
  {
   "cell_type": "code",
   "execution_count": 9,
   "metadata": {},
   "outputs": [],
   "source": [
    "model.load_weights(\"LSTM-weights-best.hdf5\")"
   ]
  },
  {
   "cell_type": "markdown",
   "metadata": {},
   "source": [
    "### <span style=\"color:brown\"> Predicting the Close Prices"
   ]
  },
  {
   "cell_type": "markdown",
   "metadata": {},
   "source": [
    "Now, we will create a list that would hold the LSTM model's predicitons on the test data.\n",
    "\n",
    "After this, we create a dataframe called performance that contains the actual close values and the predictied close values to analyze the predictions"
   ]
  },
  {
   "cell_type": "code",
   "execution_count": 10,
   "metadata": {},
   "outputs": [],
   "source": [
    "predict_close=[]\n",
    "predict_close = list(model.predict(X_test))\n"
   ]
  },
  {
   "cell_type": "code",
   "execution_count": 11,
   "metadata": {
    "scrolled": true
   },
   "outputs": [
    {
     "data": {
      "text/plain": [
       "[291.92792,\n",
       " 292.22437,\n",
       " 294.56393,\n",
       " 301.0949,\n",
       " 297.53668,\n",
       " 295.1181,\n",
       " 295.1104,\n",
       " 294.9052,\n",
       " 295.21954,\n",
       " 297.64313,\n",
       " 298.4237,\n",
       " 299.5714,\n",
       " 297.50583,\n",
       " 294.36725,\n",
       " 298.90118,\n",
       " 298.70068,\n",
       " 303.17755,\n",
       " 303.42126,\n",
       " 304.03973,\n",
       " 302.77255,\n",
       " 301.82626,\n",
       " 302.4806,\n",
       " 303.3684,\n",
       " 299.26385,\n",
       " 297.78098,\n",
       " 295.26102,\n",
       " 292.81686,\n",
       " 290.80078,\n",
       " 290.9702,\n",
       " 290.2015,\n",
       " 281.77515,\n",
       " 280.7521,\n",
       " 290.45312,\n",
       " 295.099,\n",
       " 290.65436,\n",
       " 285.80865,\n",
       " 289.3047,\n",
       " 290.92746,\n",
       " 291.6569,\n",
       " 290.0191,\n",
       " 281.83493,\n",
       " 272.6285,\n",
       " 266.71875,\n",
       " 265.1516,\n",
       " 263.29767,\n",
       " 261.90356,\n",
       " 263.27142,\n",
       " 265.50616,\n",
       " 266.30878,\n",
       " 267.01514,\n",
       " 266.8835,\n",
       " 264.4429,\n",
       " 266.57306,\n",
       " 266.88794,\n",
       " 267.6203,\n",
       " 271.72003,\n",
       " 276.76337,\n",
       " 281.0395,\n",
       " 282.82388,\n",
       " 290.5788]"
      ]
     },
     "execution_count": 11,
     "metadata": {},
     "output_type": "execute_result"
    }
   ],
   "source": [
    "predicted_close=[]\n",
    "for i in range(len(y_test)):\n",
    "    predicted_close.append((predict_close[i][0][0]))\n",
    "predicted_close"
   ]
  },
  {
   "cell_type": "code",
   "execution_count": 12,
   "metadata": {
    "scrolled": true
   },
   "outputs": [
    {
     "data": {
      "text/plain": [
       "[293.9,\n",
       " 299.5,\n",
       " 294.0,\n",
       " 292.0,\n",
       " 293.5,\n",
       " 294.55,\n",
       " 293.3,\n",
       " 294.45,\n",
       " 295.65,\n",
       " 300.7,\n",
       " 293.8,\n",
       " 291.05,\n",
       " 297.3,\n",
       " 296.55,\n",
       " 305.5,\n",
       " 304.75,\n",
       " 305.4,\n",
       " 301.65,\n",
       " 300.5,\n",
       " 301.65,\n",
       " 303.0,\n",
       " 297.4,\n",
       " 295.3,\n",
       " 292.3,\n",
       " 290.85,\n",
       " 286.2,\n",
       " 288.15,\n",
       " 285.65,\n",
       " 282.5,\n",
       " 281.45,\n",
       " 287.35,\n",
       " 294.8,\n",
       " 282.6,\n",
       " 284.1,\n",
       " 284.5,\n",
       " 289.45,\n",
       " 287.0,\n",
       " 286.55,\n",
       " 280.45,\n",
       " 275.1,\n",
       " 267.0,\n",
       " 267.5,\n",
       " 262.8,\n",
       " 259.5,\n",
       " 262.75,\n",
       " 268.0,\n",
       " 268.0,\n",
       " 270.8,\n",
       " 270.15,\n",
       " 266.15,\n",
       " 267.6,\n",
       " 269.15,\n",
       " 272.85,\n",
       " 275.95,\n",
       " 278.1,\n",
       " 281.95,\n",
       " 281.5,\n",
       " 286.95,\n",
       " 287.3,\n",
       " nan]"
      ]
     },
     "execution_count": 12,
     "metadata": {},
     "output_type": "execute_result"
    }
   ],
   "source": [
    "actual_close=[]\n",
    "for i in range(len(y_test)):\n",
    "    actual_close.append((y_test[i][0][0]))\n",
    "actual_close"
   ]
  },
  {
   "cell_type": "code",
   "execution_count": 13,
   "metadata": {},
   "outputs": [],
   "source": [
    "performance=pd.DataFrame([list(predicted_close),list(actual_close)])"
   ]
  },
  {
   "cell_type": "code",
   "execution_count": 14,
   "metadata": {},
   "outputs": [],
   "source": [
    "performance=performance.T"
   ]
  },
  {
   "cell_type": "code",
   "execution_count": 15,
   "metadata": {},
   "outputs": [],
   "source": [
    "performance.columns=['Predicted','Actual']\n",
    "Spread=performance.Actual-performance.Predicted\n"
   ]
  },
  {
   "cell_type": "code",
   "execution_count": 16,
   "metadata": {},
   "outputs": [
    {
     "data": {
      "text/html": [
       "<div>\n",
       "<style scoped>\n",
       "    .dataframe tbody tr th:only-of-type {\n",
       "        vertical-align: middle;\n",
       "    }\n",
       "\n",
       "    .dataframe tbody tr th {\n",
       "        vertical-align: top;\n",
       "    }\n",
       "\n",
       "    .dataframe thead th {\n",
       "        text-align: right;\n",
       "    }\n",
       "</style>\n",
       "<table border=\"1\" class=\"dataframe\">\n",
       "  <thead>\n",
       "    <tr style=\"text-align: right;\">\n",
       "      <th></th>\n",
       "      <th>Predicted</th>\n",
       "      <th>Actual</th>\n",
       "    </tr>\n",
       "  </thead>\n",
       "  <tbody>\n",
       "    <tr>\n",
       "      <th>55</th>\n",
       "      <td>271.720032</td>\n",
       "      <td>281.95</td>\n",
       "    </tr>\n",
       "    <tr>\n",
       "      <th>56</th>\n",
       "      <td>276.763367</td>\n",
       "      <td>281.50</td>\n",
       "    </tr>\n",
       "    <tr>\n",
       "      <th>57</th>\n",
       "      <td>281.039490</td>\n",
       "      <td>286.95</td>\n",
       "    </tr>\n",
       "    <tr>\n",
       "      <th>58</th>\n",
       "      <td>282.823883</td>\n",
       "      <td>287.30</td>\n",
       "    </tr>\n",
       "    <tr>\n",
       "      <th>59</th>\n",
       "      <td>290.578796</td>\n",
       "      <td>NaN</td>\n",
       "    </tr>\n",
       "  </tbody>\n",
       "</table>\n",
       "</div>"
      ],
      "text/plain": [
       "     Predicted  Actual\n",
       "55  271.720032  281.95\n",
       "56  276.763367  281.50\n",
       "57  281.039490  286.95\n",
       "58  282.823883  287.30\n",
       "59  290.578796     NaN"
      ]
     },
     "execution_count": 16,
     "metadata": {},
     "output_type": "execute_result"
    }
   ],
   "source": [
    "performance.tail()"
   ]
  },
  {
   "cell_type": "markdown",
   "metadata": {},
   "source": [
    "Now we will plot and see how the spread between the Actual and Predicted prices behaves. If the spread is mean reverting, then we can use this knowledge to create good entry and exit points for already exiting trades, or we enter new positions. "
   ]
  },
  {
   "cell_type": "code",
   "execution_count": 17,
   "metadata": {},
   "outputs": [
    {
     "data": {
      "image/png": "[encoded data removed]",
      "text/plain": [
       "<Figure size 1080x504 with 1 Axes>"
      ]
     },
     "metadata": {
      "needs_background": "light"
     },
     "output_type": "display_data"
    }
   ],
   "source": [
    "# Here s stands for the standard deviation range for the spread, beyond which we will consider the entry and exit positions\n",
    "# Feel free to change this s value to generate different signals\n",
    "s=2\n",
    "plt.figure(figsize=(15,7))\n",
    "plt.plot(Spread)\n",
    "plt.plot(Spread.expanding().mean()+s*Spread.expanding().std(),c='g')\n",
    "plt.plot(Spread.expanding().mean()-s*Spread.expanding().std(),c='r')\n",
    "plt.ylabel('Spread')\n",
    "plt.xlabel('Test Data')\n",
    "plt.show()"
   ]
  },
  {
   "cell_type": "markdown",
   "metadata": {},
   "source": [
    "### <span style=\"color:brown\"> Visualizing and comparing the performance"
   ]
  },
  {
   "cell_type": "markdown",
   "metadata": {},
   "source": [
    "Now, let us plot the predicted and actual values of the close prices."
   ]
  },
  {
   "cell_type": "markdown",
   "metadata": {},
   "source": [
    "In this strategy, we have generated a buy signal everytime the spread value has gone below the lower standard deviation line.\n",
    "Conversely, we have generated a sell signal everytime the spread value has gone above the upper standard deviation line."
   ]
  },
  {
   "cell_type": "markdown",
   "metadata": {},
   "source": [
    "####  Please note: The strategy given here is a mean reverting model that could be used for paper trading. Please do not use this in real trading without extensive backtesting."
   ]
  },
  {
   "cell_type": "code",
   "execution_count": 18,
   "metadata": {
    "scrolled": false
   },
   "outputs": [
    {
     "data": {
      "image/png": "[encoded data removed]",
      "text/plain": [
       "<Figure size 1080x504 with 1 Axes>"
      ]
     },
     "metadata": {
      "needs_background": "light"
     },
     "output_type": "display_data"
    }
   ],
   "source": [
    "plt.figure(figsize=(15,7))\n",
    "# Plot the predicted and actual prices for comparison\n",
    "plt.plot(performance.Predicted.iloc[:-1],c='y')\n",
    "plt.plot(performance.Actual,c='b')\n",
    "# Plot the sell signlas wherever the Spread is above the upper standard deviation band\n",
    "plt.scatter(performance.Actual[(Spread>Spread.expanding().mean()+s*Spread.expanding().std())].index,\n",
    "            performance.Actual[(Spread>Spread.expanding().mean()+s*Spread.expanding().std())],c='r',s=50)\n",
    "# Plot the buy signlas wherever the Spread is below the lower standard deviation band\n",
    "plt.scatter(performance.Actual[(Spread<Spread.expanding().mean()-s*Spread.expanding().std())].index,\n",
    "            performance.Actual[(Spread<Spread.expanding().mean()-s*Spread.expanding().std())],c='g',s=50)\n",
    "plt.legend(['Predicted_Close','Actual_Close','Over Bought','Over Sold'])\n",
    "plt.ylabel('SBI Price')\n",
    "plt.xlabel('Test Data')\n",
    "plt.show()\n"
   ]
  },
  {
   "cell_type": "markdown",
   "metadata": {},
   "source": [
    "### Conclusion"
   ]
  },
  {
   "cell_type": "markdown",
   "metadata": {
    "collapsed": true
   },
   "source": [
    "We can see from the above graph that whenever the sell signals are generated, the market has either turned sideways/ neutral, or  shown a sharp reversal. "
   ]
  }
 ],
 "metadata": {
  "anaconda-cloud": {},
  "kernelspec": {
   "display_name": "Python 3",
   "language": "python",
   "name": "python3"
  },
  "language_info": {
   "codemirror_mode": {
    "name": "ipython",
    "version": 3
   },
   "file_extension": ".py",
   "mimetype": "text/x-python",
   "name": "python",
   "nbconvert_exporter": "python",
   "pygments_lexer": "ipython3",
   "version": "3.5.5"
  }
 },
 "nbformat": 4,
 "nbformat_minor": 1
}
