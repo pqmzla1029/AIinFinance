{
 "cells": [
  {
   "cell_type": "code",
   "execution_count": 1,
   "metadata": {},
   "outputs": [],
   "source": [
    "# Importing the libraries\n",
    "import numpy as np\n",
    "import matplotlib.pyplot as plt\n",
    "import pandas as pd\n",
    "import datetime"
   ]
  },
  {
   "cell_type": "code",
   "execution_count": 2,
   "metadata": {},
   "outputs": [],
   "source": [
    "dataset = pd.read_csv('AAPL.csv',index_col=\"Date\",parse_dates=True)\n",
    "#dataset"
   ]
  },
  {
   "cell_type": "code",
   "execution_count": null,
   "metadata": {},
   "outputs": [],
   "source": [
    "# convert column \"a\" of a DataFrame\n",
    "# dataset[\"Close\"] = dataset[\"Close\"].str.replace(',', '').astype(float)\n"
   ]
  },
  {
   "cell_type": "code",
   "execution_count": null,
   "metadata": {},
   "outputs": [],
   "source": [
    "# dataset[\"Volume\"] = dataset[\"Volume\"].str.replace(',', '').astype(float)"
   ]
  },
  {
   "cell_type": "code",
   "execution_count": null,
   "metadata": {},
   "outputs": [],
   "source": [
    "# dataset['Close: 30 Day Mean'] = dataset['Close'].rolling(window=30).mean()\n",
    "# dataset[['Close','Close: 30 Day Mean']].plot(figsize=(16,6))"
   ]
  },
  {
   "cell_type": "code",
   "execution_count": 3,
   "metadata": {},
   "outputs": [],
   "source": [
    "# for closing prices\n",
    "training_set=dataset['Close']\n",
    "training_set=pd.DataFrame(training_set)\n",
    "\n",
    "start=1200 #1200\n",
    "end=200 #200\n",
    "\n",
    "training_set=training_set[-1*start:-1*end]\n",
    "realvalue=training_set\n",
    "# Feature Scaling\n",
    "from sklearn.preprocessing import MinMaxScaler\n",
    "sc = MinMaxScaler(feature_range = (0, 1))\n",
    "training_set_scaled = sc.fit_transform(training_set)"
   ]
  },
  {
   "cell_type": "code",
   "execution_count": 4,
   "metadata": {},
   "outputs": [
    {
     "name": "stdout",
     "output_type": "stream",
     "text": [
      "               Close      Open      MACD  RSI EWMA\n",
      "Date                                              \n",
      "2009-09-04  0.000000  0.000000  0.389422  0.149656\n",
      "2009-09-08  0.004927  0.010652  0.424612  0.149603\n",
      "2009-09-09  0.001561  0.010278  0.426944  0.149711\n",
      "2009-09-10  0.004231  0.008932  0.440088  0.149646\n",
      "2009-09-11  0.003479  0.010521  0.440812  0.149678\n"
     ]
    }
   ],
   "source": [
    "# # For multiple inputs\n",
    "\n",
    "# dataset.head()\n",
    "training_set = dataset[['Close','Open','MACD','RSI EWMA']]\n",
    "training_set = pd.DataFrame(training_set)\n",
    "\n",
    "start=2400 #1200\n",
    "end=1400 #200\n",
    "\n",
    "training_set=training_set[-1*start:-1*end]\n",
    "realvalue=training_set\n",
    "\n",
    "# Feature Scaling\n",
    "from sklearn.preprocessing import MinMaxScaler\n",
    "sc = MinMaxScaler(feature_range = (0, 1))\n",
    "training_set_scaled = training_set\n",
    "training_set_scaled[['Close','Open','RSI EWMA']] = sc.fit_transform(training_set[['Close','Open','RSI EWMA']])\n",
    "print(training_set_scaled.head())\n"
   ]
  },
  {
   "cell_type": "code",
   "execution_count": 5,
   "metadata": {},
   "outputs": [
    {
     "name": "stdout",
     "output_type": "stream",
     "text": [
      "               Close      Open      MACD  RSI EWMA\n",
      "Date                                              \n",
      "2009-09-04  0.000000  0.000000  0.389422  0.149656\n",
      "2009-09-08  0.004927  0.010652  0.424612  0.149603\n",
      "2009-09-09  0.001561  0.010278  0.426944  0.149711\n",
      "2009-09-10  0.004231  0.008932  0.440088  0.149646\n",
      "2009-09-11  0.003479  0.010521  0.440812  0.149678\n"
     ]
    }
   ],
   "source": [
    "# Creating a data structure with 60 timesteps and 1 output\n",
    "xdata= []\n",
    "ydata = []\n",
    "window=30\n",
    "length=training_set_scaled.shape[0]-1\n",
    "print(training_set_scaled.head())\n",
    "column_idx = training_set_scaled.columns.get_loc('Close')\n",
    "\n",
    "training_set_scaled = np.array(training_set_scaled)\n",
    "\n",
    "for i in range(window, length):\n",
    "    xdata.append(training_set_scaled[i-window:i,:])\n",
    "    ydata.append(training_set_scaled[i+1, column_idx]) \n",
    "xdata, ydata = np.array(xdata), np.array(ydata)\n",
    "\n",
    "per=0.9 #0.9\n",
    "split=int(per*len(xdata))\n",
    "X_test=xdata[split:,:]\n",
    "Y_test=ydata[split:]\n",
    "realvalue1=realvalue[-len(Y_test):]\n",
    "\n",
    "X_train=xdata[:split,:]            \n",
    "y_train=ydata[:split]\n",
    "\n",
    "# Reshaping\n",
    "X_train = np.reshape(X_train, (X_train.shape[0], X_train.shape[1], X_train.shape[2]))"
   ]
  },
  {
   "cell_type": "code",
   "execution_count": 6,
   "metadata": {},
   "outputs": [
    {
     "name": "stderr",
     "output_type": "stream",
     "text": [
      "Using TensorFlow backend.\n"
     ]
    }
   ],
   "source": [
    "# Part 2 - Building the RNN\n",
    "\n",
    "# Importing the Keras libraries and packages\n",
    "from keras.models import Sequential\n",
    "from keras.layers import Dense\n",
    "from keras.layers import LSTM\n",
    "from keras.layers import Dropout\n",
    "\n",
    "# Initialising the RNN\n",
    "regressor = Sequential()\n",
    "\n"
   ]
  },
  {
   "cell_type": "code",
   "execution_count": 7,
   "metadata": {},
   "outputs": [],
   "source": [
    "# Adding the first LSTM layer and some Dropout regularisation\n",
    "regressor.add(LSTM(units = 50, return_sequences = True, input_shape = (X_train.shape[1], X_train.shape[2])))\n",
    "regressor.add(Dropout(0.2))\n",
    "\n",
    "# Adding a second LSTM layer and some Dropout regularisation\n",
    "regressor.add(LSTM(units = 200, return_sequences = True,activation='relu'))\n",
    "regressor.add(Dropout(0.2))\n",
    "\n",
    "# Adding a third LSTM layer and some Dropout regularisation\n",
    "regressor.add(LSTM(units = 200, return_sequences =True, activation='tanh'))\n",
    "regressor.add(Dropout(0.2))\n",
    "\n",
    "# Adding a fourth LSTM layer and some Dropout regularisation\n",
    "regressor.add(LSTM(units = 200,activation='relu'))\n",
    "regressor.add(Dropout(0.2))\n",
    "\n",
    "# Adding the output layer\n",
    "regressor.add(Dense(units = 1))\n",
    "\n",
    "# Compiling the RNN\n",
    "regressor.compile(optimizer = 'adam', loss = 'mean_squared_error')\n"
   ]
  },
  {
   "cell_type": "code",
   "execution_count": null,
   "metadata": {
    "scrolled": true
   },
   "outputs": [
    {
     "name": "stdout",
     "output_type": "stream",
     "text": [
      "Epoch 1/100\n",
      "872/872 [==============================] - 12s 14ms/step - loss: 0.0542\n",
      "Epoch 2/100\n",
      "872/872 [==============================] - 8s 9ms/step - loss: 0.0059\n",
      "Epoch 3/100\n",
      "872/872 [==============================] - 8s 10ms/step - loss: 0.0033\n",
      "Epoch 4/100\n",
      "872/872 [==============================] - 8s 10ms/step - loss: 0.0030\n",
      "Epoch 5/100\n",
      "320/872 [==========>...................] - ETA: 5s - loss: 0.0029"
     ]
    }
   ],
   "source": [
    "\n",
    "# Fitting the RNN to the Training set\n",
    "regressor.fit(X_train, y_train, epochs = 100, batch_size = 32,shuffle=True)\n"
   ]
  },
  {
   "cell_type": "code",
   "execution_count": null,
   "metadata": {},
   "outputs": [],
   "source": [
    "xt=X_test\n",
    "xt = np.reshape(xt, (xt.shape[0], xt.shape[1], xt.shape[2]))\n",
    "predicted_stock_price = regressor.predict(xt)\n",
    "predicted_stock_price = sc.inverse_transform(predicted_stock_price)"
   ]
  },
  {
   "cell_type": "code",
   "execution_count": null,
   "metadata": {},
   "outputs": [],
   "source": [
    "pp=pd.DataFrame(predicted_stock_price)\n",
    "pp1=pp.shift(-1)\n",
    "prediction=np.where(pp<pp1,1,-1)\n",
    "\n",
    "real=pd.DataFrame(realvalue1)\n",
    "real1=real.shift(-1)\n",
    "real1=np.where(real<real1,1,-1)\n",
    "\n",
    "from sklearn.metrics import accuracy_score\n",
    "score=accuracy_score(real1, prediction)\n",
    "score"
   ]
  },
  {
   "cell_type": "code",
   "execution_count": null,
   "metadata": {},
   "outputs": [],
   "source": [
    "pp = np.array(pp)\n",
    "\n",
    "data=real\n",
    "data['pp']=pp\n",
    "\n",
    "data['ret1']=np.log(data.Close/data.Close.shift(1))# calculating the every day return\n",
    "data['ret1']=real['ret1'].shift(-1) # bringing the return to the previous day\n",
    "data['p_sig']=prediction # prediction signal\n",
    "data['v_p']=data.p_sig*real.ret1 #value prediction retun\n",
    "\n",
    "# Plot the cumulative returns for single leaf in train dataset\n",
    "data.v_p.cumsum().plot(figsize=(15,6))\n",
    "\n",
    "# Plot the cumulative returns for full tree in train dataset\n",
    "data.ret1.cumsum().plot(figsize=(15,6))\n",
    "plt.legend([\"LSTM retun\", \"market return\"]);\n"
   ]
  },
  {
   "cell_type": "code",
   "execution_count": null,
   "metadata": {},
   "outputs": [],
   "source": [
    "plt.figure(figsize=(20,5))\n",
    "plt.plot(data['Close'], color = 'red', label = 'Real AAPL Stock Price')\n",
    "plt.plot(data['pp'], color = 'blue', label = 'Predicted AAPL Stock Price')\n",
    "plt.title('AAPL Stock Price Prediction')\n",
    "#for i in j:\n",
    "#    plt.axvline(x=i)\n",
    "plt.xlabel('Time')\n",
    "plt.ylabel('AAPL Stock Price')\n",
    "plt.legend()\n",
    "plt.show()"
   ]
  },
  {
   "cell_type": "code",
   "execution_count": null,
   "metadata": {},
   "outputs": [],
   "source": []
  }
 ],
 "metadata": {
  "kernelspec": {
   "display_name": "Python 3",
   "language": "python",
   "name": "python3"
  },
  "language_info": {
   "codemirror_mode": {
    "name": "ipython",
    "version": 3
   },
   "file_extension": ".py",
   "mimetype": "text/x-python",
   "name": "python",
   "nbconvert_exporter": "python",
   "pygments_lexer": "ipython3",
   "version": "3.5.6"
  }
 },
 "nbformat": 4,
 "nbformat_minor": 2
}
