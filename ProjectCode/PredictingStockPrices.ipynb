{
 "cells": [
  {
   "cell_type": "code",
   "execution_count": null,
   "metadata": {},
   "outputs": [],
   "source": [
    "from keras.layers.core import Dense, Activation, Dropout\n",
    "from keras.layers.recurrent import LSTM\n",
    "from keras.models import Sequential\n",
    "import lstm\n",
    "import time \n",
    "import Yahooimport as Y\n",
    "import GridSearchLstm as Gs\n",
    "import matplotlib.pyplot as plt\n",
    "import numpy as np\n",
    "import math"
   ]
  },
  {
   "cell_type": "code",
   "execution_count": null,
   "metadata": {},
   "outputs": [],
   "source": [
    "#Step 1 Load Data\n",
    "\n",
    "# (1) TO DO: Make the loading of data dynamic based on user input\n",
    "\n",
    "ticker = 'AAPL'\n",
    "\n",
    "data = Y.retrieve_data(ticker,'2015-01-01','2018-11-01')\n",
    "\n",
    "plt.plot(data.iloc[:,3],label=ticker)\n",
    "plt.ylabel('Close Price')\n",
    "plt.xlabel('Date')\n",
    "plt.legend()\n",
    "\n",
    "# Select only the Close data as the test value\n",
    "data = data.iloc[:,3]\n",
    "\n",
    "# (2) TO DO: Update the X_train, X_test to use additional inputs (need to figure these out)\n",
    "\n",
    "#X_train, y_train, X_test, y_test = lstm.load_data('sp500_reduced.csv', 10, False)"
   ]
  },
  {
   "cell_type": "code",
   "execution_count": null,
   "metadata": {},
   "outputs": [],
   "source": [
    "#Step 2 Build Model\n",
    "\n",
    "# Perform a grid search of the LSTM model.  Change these values to get a different set of models\n",
    "# For example, to also test a lag of 10 days, change N_input to [7,10]\n",
    "\n",
    "N_input = [7]\n",
    "N_nodes = [200]#,100]\n",
    "N_epochs = [50]\n",
    "N_batch = [1]\n",
    "N_diff = [12]\n",
    "N_split = [0.7] #This is the test train split, as a percentage\n",
    "\n",
    "cfg_list = Gs.model_configs(N_input, N_nodes, N_epochs, N_batch, N_diff, N_split)\n",
    "\n",
    "matrix = [lstm.model_fit(data, cfg) for cfg in cfg_list]\n",
    "\n",
    "\n",
    "#for model in models:\n",
    "#    model.summary()\n",
    "\n",
    "#model = Sequential()\n",
    "\n",
    "#model.add(LSTM(\n",
    "#    input_dim=1,\n",
    "#    output_dim=50,\n",
    "#    return_sequences=True))\n",
    "#model.add(Dropout(0.2))\n",
    "\n",
    "#model.add(LSTM(\n",
    "#    100,\n",
    "#    return_sequences=False))\n",
    "#model.add(Dropout(0.2))\n",
    "\n",
    "#model.add(Dense(\n",
    "#    output_dim=1))\n",
    "#model.add(Activation('linear'))\n",
    "\n",
    "#start = time.time()\n",
    "#model.compile(loss='mse', optimizer='rmsprop')\n",
    "#print('compilation time : ', time.time() - start)"
   ]
  },
  {
   "cell_type": "code",
   "execution_count": null,
   "metadata": {},
   "outputs": [],
   "source": [
    "model=matrix[0][0]\n",
    "X_test=matrix[0][1]\n",
    "Y_test=matrix[0][2]"
   ]
  },
  {
   "cell_type": "code",
   "execution_count": null,
   "metadata": {},
   "outputs": [],
   "source": [
    "print(Y_)"
   ]
  },
  {
   "cell_type": "code",
   "execution_count": null,
   "metadata": {},
   "outputs": [],
   "source": [
    "#Step 4 - Plot the predictions!\n",
    "window_size=7\n",
    "prediction_length=14\n",
    "predictions = lstm.predict_sequences_multiple(model, X_test,window_size,prediction_length)\n",
    "lstm.plot_results_multiple(predictions, Y_test, prediction_length)\n",
    "\n",
    "# (4) TO DO: Implement the trading aspect of the model, and output parameters such as CAGR, Sharpe ratio etc."
   ]
  },
  {
   "cell_type": "code",
   "execution_count": null,
   "metadata": {},
   "outputs": [],
   "source": [
    "predictions[6]"
   ]
  },
  {
   "cell_type": "code",
   "execution_count": null,
   "metadata": {},
   "outputs": [],
   "source": [
    "np.mean(predictions[1])"
   ]
  },
  {
   "cell_type": "code",
   "execution_count": null,
   "metadata": {},
   "outputs": [],
   "source": [
    "Y_test[0]"
   ]
  },
  {
   "cell_type": "code",
   "execution_count": null,
   "metadata": {},
   "outputs": [],
   "source": [
    "length=math.floor(len(Y_test)/prediction_length)*prediction_length # prediction length\n",
    "#length=len(predictions)\n",
    "print(length)\n",
    "predict_trend=np.ones(length)\n",
    "predict_trend1=np.ones(length)\n",
    "\n",
    "for i in range(length):\n",
    "    step=math.floor(i/prediction_length)\n",
    "    #print(step)\n",
    "    av=np.mean(predictions[step])\n",
    "    predict_trend[i]=np.where(Y_test[step*prediction_length]>av,-1,1)\n",
    "    \n",
    "    f_l=predictions[step][0]<predictions[step][prediction_length-1]\n",
    "    predict_trend1[i]=np.where(f_l,1,-1)\n",
    "   \n",
    "    \n",
    "\n",
    "from sklearn.metrics import accuracy_score\n",
    "\n",
    "#acc= accuracy_score(list(y_test),list(predict_trend))"
   ]
  },
  {
   "cell_type": "code",
   "execution_count": null,
   "metadata": {},
   "outputs": [],
   "source": [
    "predict_trend"
   ]
  },
  {
   "cell_type": "code",
   "execution_count": null,
   "metadata": {},
   "outputs": [],
   "source": [
    "predict_trend1+predict_trend"
   ]
  },
  {
   "cell_type": "code",
   "execution_count": null,
   "metadata": {},
   "outputs": [],
   "source": []
  }
 ],
 "metadata": {
  "kernelspec": {
   "display_name": "Python 3",
   "language": "python",
   "name": "python3"
  },
  "language_info": {
   "codemirror_mode": {
    "name": "ipython",
    "version": 3
   },
   "file_extension": ".py",
   "mimetype": "text/x-python",
   "name": "python",
   "nbconvert_exporter": "python",
   "pygments_lexer": "ipython3",
   "version": "3.5.6"
  }
 },
 "nbformat": 4,
 "nbformat_minor": 2
}
