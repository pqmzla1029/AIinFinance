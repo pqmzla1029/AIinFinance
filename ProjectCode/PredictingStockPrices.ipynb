{
 "cells": [
  {
   "cell_type": "code",
   "execution_count": 1,
   "metadata": {},
   "outputs": [
    {
     "name": "stderr",
     "output_type": "stream",
     "text": [
      "Using TensorFlow backend.\n"
     ]
    }
   ],
   "source": [
    "from keras.layers.core import Dense, Activation, Dropout\n",
    "from keras.layers.recurrent import LSTM\n",
    "from keras.models import Sequential\n",
    "import lstm\n",
    "import time \n",
    "import Yahooimport as Y\n",
    "import GridSearchLstm as Gs\n",
    "import matplotlib.pyplot as plt\n",
    "import numpy as np\n",
    "import math"
   ]
  },
  {
   "cell_type": "code",
   "execution_count": 2,
   "metadata": {},
   "outputs": [
    {
     "name": "stdout",
     "output_type": "stream",
     "text": [
      "[*********************100%***********************]  1 of 1 downloaded\n"
     ]
    },
    {
     "data": {
      "image/png": "[encoded data removed]",
      "text/plain": [
       "<Figure size 432x288 with 1 Axes>"
      ]
     },
     "metadata": {
      "needs_background": "light"
     },
     "output_type": "display_data"
    }
   ],
   "source": [
    "#Step 1 Load Data\n",
    "\n",
    "# (1) TO DO: Make the loading of data dynamic based on user input\n",
    "\n",
    "ticker = 'AAPL'#AAPL\n",
    "\n",
    "data = Y.retrieve_data(ticker,'2010-01-01','2018-11-01')\n",
    "\n",
    "plt.plot(data.iloc[:,3],label=ticker)\n",
    "plt.ylabel('Close Price')\n",
    "plt.xlabel('Date')\n",
    "plt.legend()\n",
    "\n",
    "# Select only the Close data as the test value\n",
    "data = data.iloc[:,3]\n",
    "\n",
    "# (2) TO DO: Update the X_train, X_test to use additional inputs (need to figure these out)\n",
    "\n",
    "#X_train, y_train, X_test, y_test = lstm.load_data('AAPL.csv', 50, False,0.8)"
   ]
  },
  {
   "cell_type": "code",
   "execution_count": 3,
   "metadata": {},
   "outputs": [
    {
     "name": "stdout",
     "output_type": "stream",
     "text": [
      "Total configs: 1\n",
      "Train on 1189 samples, validate on 298 samples\n",
      "Epoch 1/50\n",
      "1189/1189 [==============================] - 4s 3ms/step - loss: 2403.7306 - mean_squared_error: 2403.7306 - val_loss: 705.0784 - val_mean_squared_error: 705.0784\n",
      "\n",
      "Epoch 00001: val_loss improved from inf to 705.07845, saving model to LSTM-weights-best.hdf5\n",
      "Epoch 2/50\n",
      "1189/1189 [==============================] - 2s 2ms/step - loss: 680.5746 - mean_squared_error: 680.5746 - val_loss: 512.2658 - val_mean_squared_error: 512.2658\n",
      "\n",
      "Epoch 00002: val_loss improved from 705.07845 to 512.26584, saving model to LSTM-weights-best.hdf5\n",
      "Epoch 3/50\n",
      "1189/1189 [==============================] - 2s 1ms/step - loss: 232.5979 - mean_squared_error: 232.5979 - val_loss: 108.4747 - val_mean_squared_error: 108.4747\n",
      "\n",
      "Epoch 00003: val_loss improved from 512.26584 to 108.47466, saving model to LSTM-weights-best.hdf5\n",
      "Epoch 4/50\n",
      "1189/1189 [==============================] - 2s 1ms/step - loss: 55.6793 - mean_squared_error: 55.6793 - val_loss: 22.9077 - val_mean_squared_error: 22.9077\n",
      "\n",
      "Epoch 00004: val_loss improved from 108.47466 to 22.90765, saving model to LSTM-weights-best.hdf5\n",
      "Epoch 5/50\n",
      "1189/1189 [==============================] - 2s 1ms/step - loss: 48.0385 - mean_squared_error: 48.0385 - val_loss: 33.3099 - val_mean_squared_error: 33.3099\n",
      "\n",
      "Epoch 00005: val_loss did not improve from 22.90765\n",
      "Epoch 6/50\n",
      "1189/1189 [==============================] - 2s 1ms/step - loss: 36.3610 - mean_squared_error: 36.3610 - val_loss: 28.9004 - val_mean_squared_error: 28.9004\n",
      "\n",
      "Epoch 00006: val_loss did not improve from 22.90765\n",
      "Epoch 7/50\n",
      "1189/1189 [==============================] - 2s 1ms/step - loss: 32.2835 - mean_squared_error: 32.2835 - val_loss: 72.4951 - val_mean_squared_error: 72.4951\n",
      "\n",
      "Epoch 00007: val_loss did not improve from 22.90765\n",
      "Epoch 8/50\n",
      "1189/1189 [==============================] - 2s 1ms/step - loss: 29.9222 - mean_squared_error: 29.9222 - val_loss: 7.3218 - val_mean_squared_error: 7.3218\n",
      "\n",
      "Epoch 00008: val_loss improved from 22.90765 to 7.32178, saving model to LSTM-weights-best.hdf5\n",
      "Epoch 9/50\n",
      "1189/1189 [==============================] - 2s 1ms/step - loss: 25.6747 - mean_squared_error: 25.6747 - val_loss: 37.4861 - val_mean_squared_error: 37.4861\n",
      "\n",
      "Epoch 00009: val_loss did not improve from 7.32178\n",
      "Epoch 10/50\n",
      "1189/1189 [==============================] - 2s 1ms/step - loss: 23.0424 - mean_squared_error: 23.0424 - val_loss: 35.8540 - val_mean_squared_error: 35.8540\n",
      "\n",
      "Epoch 00010: val_loss did not improve from 7.32178\n",
      "Epoch 11/50\n",
      "1189/1189 [==============================] - 2s 2ms/step - loss: 24.6282 - mean_squared_error: 24.6282 - val_loss: 8.5754 - val_mean_squared_error: 8.5754\n",
      "\n",
      "Epoch 00011: val_loss did not improve from 7.32178\n",
      "Epoch 12/50\n",
      "1189/1189 [==============================] - 2s 2ms/step - loss: 28.2106 - mean_squared_error: 28.2106 - val_loss: 25.2785 - val_mean_squared_error: 25.2785\n",
      "\n",
      "Epoch 00012: val_loss did not improve from 7.32178\n",
      "Epoch 13/50\n",
      "1189/1189 [==============================] - 2s 2ms/step - loss: 29.5750 - mean_squared_error: 29.5750 - val_loss: 65.3935 - val_mean_squared_error: 65.3935\n",
      "\n",
      "Epoch 00013: val_loss did not improve from 7.32178\n",
      "Epoch 14/50\n",
      "1189/1189 [==============================] - 2s 1ms/step - loss: 30.0481 - mean_squared_error: 30.0481 - val_loss: 29.6978 - val_mean_squared_error: 29.6978\n",
      "\n",
      "Epoch 00014: val_loss did not improve from 7.32178\n",
      "Epoch 15/50\n",
      "1189/1189 [==============================] - 2s 1ms/step - loss: 23.9639 - mean_squared_error: 23.9639 - val_loss: 8.7000 - val_mean_squared_error: 8.7000\n",
      "\n",
      "Epoch 00015: val_loss did not improve from 7.32178\n",
      "Epoch 16/50\n",
      "1189/1189 [==============================] - 2s 2ms/step - loss: 29.1521 - mean_squared_error: 29.1521 - val_loss: 5.8764 - val_mean_squared_error: 5.8764\n",
      "\n",
      "Epoch 00016: val_loss improved from 7.32178 to 5.87639, saving model to LSTM-weights-best.hdf5\n",
      "Epoch 17/50\n",
      "1189/1189 [==============================] - 2s 2ms/step - loss: 27.9431 - mean_squared_error: 27.9431 - val_loss: 21.2365 - val_mean_squared_error: 21.2365\n",
      "\n",
      "Epoch 00017: val_loss did not improve from 5.87639\n",
      "Epoch 18/50\n",
      "1189/1189 [==============================] - 2s 2ms/step - loss: 24.2852 - mean_squared_error: 24.2852 - val_loss: 34.5463 - val_mean_squared_error: 34.5463\n",
      "\n",
      "Epoch 00018: val_loss did not improve from 5.87639\n",
      "Epoch 19/50\n",
      "1189/1189 [==============================] - 2s 2ms/step - loss: 20.4757 - mean_squared_error: 20.4757 - val_loss: 32.2546 - val_mean_squared_error: 32.2546\n",
      "\n",
      "Epoch 00019: val_loss did not improve from 5.87639\n",
      "Epoch 20/50\n",
      "1189/1189 [==============================] - 2s 2ms/step - loss: 17.1645 - mean_squared_error: 17.1645 - val_loss: 33.6878 - val_mean_squared_error: 33.6878\n",
      "\n",
      "Epoch 00020: val_loss did not improve from 5.87639\n",
      "Epoch 21/50\n",
      "1189/1189 [==============================] - 2s 2ms/step - loss: 17.1850 - mean_squared_error: 17.1850 - val_loss: 27.6038 - val_mean_squared_error: 27.6038\n",
      "\n",
      "Epoch 00021: val_loss did not improve from 5.87639\n",
      "Epoch 22/50\n",
      "1189/1189 [==============================] - 2s 2ms/step - loss: 20.0187 - mean_squared_error: 20.0187 - val_loss: 12.0811 - val_mean_squared_error: 12.0811\n",
      "\n",
      "Epoch 00022: val_loss did not improve from 5.87639\n",
      "Epoch 23/50\n",
      "1189/1189 [==============================] - 2s 2ms/step - loss: 17.9249 - mean_squared_error: 17.9249 - val_loss: 16.2612 - val_mean_squared_error: 16.2612\n",
      "\n",
      "Epoch 00023: val_loss did not improve from 5.87639\n",
      "Epoch 24/50\n",
      "1189/1189 [==============================] - 2s 2ms/step - loss: 16.3759 - mean_squared_error: 16.3759 - val_loss: 25.5221 - val_mean_squared_error: 25.5221\n",
      "\n",
      "Epoch 00024: val_loss did not improve from 5.87639\n",
      "Epoch 25/50\n",
      "1189/1189 [==============================] - 2s 2ms/step - loss: 16.6427 - mean_squared_error: 16.6427 - val_loss: 28.0592 - val_mean_squared_error: 28.0592\n",
      "\n",
      "Epoch 00025: val_loss did not improve from 5.87639\n",
      "Epoch 26/50\n",
      "1189/1189 [==============================] - 2s 2ms/step - loss: 15.3598 - mean_squared_error: 15.3598 - val_loss: 29.5668 - val_mean_squared_error: 29.5668\n",
      "\n",
      "Epoch 00026: val_loss did not improve from 5.87639\n",
      "Epoch 27/50\n",
      "1189/1189 [==============================] - 2s 2ms/step - loss: 18.3486 - mean_squared_error: 18.3486 - val_loss: 24.2031 - val_mean_squared_error: 24.2031\n",
      "\n",
      "Epoch 00027: val_loss did not improve from 5.87639\n",
      "Epoch 28/50\n",
      "1189/1189 [==============================] - 2s 2ms/step - loss: 18.4127 - mean_squared_error: 18.4127 - val_loss: 34.2565 - val_mean_squared_error: 34.2565\n",
      "\n",
      "Epoch 00028: val_loss did not improve from 5.87639\n",
      "Epoch 29/50\n",
      "1189/1189 [==============================] - 2s 2ms/step - loss: 16.6164 - mean_squared_error: 16.6164 - val_loss: 21.5669 - val_mean_squared_error: 21.5669\n",
      "\n",
      "Epoch 00029: val_loss did not improve from 5.87639\n",
      "Epoch 30/50\n",
      "1189/1189 [==============================] - 2s 2ms/step - loss: 22.0834 - mean_squared_error: 22.0834 - val_loss: 47.7635 - val_mean_squared_error: 47.7635\n",
      "\n",
      "Epoch 00030: val_loss did not improve from 5.87639\n",
      "Epoch 31/50\n",
      "1189/1189 [==============================] - 2s 2ms/step - loss: 16.5223 - mean_squared_error: 16.5223 - val_loss: 3.2279 - val_mean_squared_error: 3.2279\n",
      "\n",
      "Epoch 00031: val_loss improved from 5.87639 to 3.22791, saving model to LSTM-weights-best.hdf5\n",
      "Epoch 32/50\n",
      "1189/1189 [==============================] - 2s 2ms/step - loss: 16.9402 - mean_squared_error: 16.9402 - val_loss: 53.4826 - val_mean_squared_error: 53.4826\n",
      "\n",
      "Epoch 00032: val_loss did not improve from 3.22791\n",
      "Epoch 33/50\n",
      "1189/1189 [==============================] - 2s 2ms/step - loss: 15.1805 - mean_squared_error: 15.1805 - val_loss: 12.5334 - val_mean_squared_error: 12.5334\n",
      "\n",
      "Epoch 00033: val_loss did not improve from 3.22791\n",
      "Epoch 34/50\n",
      "1189/1189 [==============================] - 2s 2ms/step - loss: 16.1872 - mean_squared_error: 16.1872 - val_loss: 4.7958 - val_mean_squared_error: 4.7958\n",
      "\n",
      "Epoch 00034: val_loss did not improve from 3.22791\n",
      "Epoch 35/50\n",
      "1189/1189 [==============================] - 2s 2ms/step - loss: 18.0632 - mean_squared_error: 18.0632 - val_loss: 36.4906 - val_mean_squared_error: 36.4906\n",
      "\n",
      "Epoch 00035: val_loss did not improve from 3.22791\n",
      "Epoch 36/50\n"
     ]
    },
    {
     "name": "stdout",
     "output_type": "stream",
     "text": [
      "1189/1189 [==============================] - 2s 2ms/step - loss: 16.1020 - mean_squared_error: 16.1020 - val_loss: 10.9233 - val_mean_squared_error: 10.9233\n",
      "\n",
      "Epoch 00036: val_loss did not improve from 3.22791\n",
      "Epoch 37/50\n",
      "1189/1189 [==============================] - 2s 2ms/step - loss: 16.2081 - mean_squared_error: 16.2081 - val_loss: 10.8734 - val_mean_squared_error: 10.8734\n",
      "\n",
      "Epoch 00037: val_loss did not improve from 3.22791\n",
      "Epoch 38/50\n",
      "1189/1189 [==============================] - 2s 2ms/step - loss: 16.9897 - mean_squared_error: 16.9897 - val_loss: 20.5398 - val_mean_squared_error: 20.5398\n",
      "\n",
      "Epoch 00038: val_loss did not improve from 3.22791\n",
      "Epoch 39/50\n",
      "1189/1189 [==============================] - 2s 2ms/step - loss: 13.3066 - mean_squared_error: 13.3066 - val_loss: 3.9151 - val_mean_squared_error: 3.9151\n",
      "\n",
      "Epoch 00039: val_loss did not improve from 3.22791\n",
      "Epoch 40/50\n",
      "1189/1189 [==============================] - 2s 2ms/step - loss: 19.7197 - mean_squared_error: 19.7197 - val_loss: 70.5588 - val_mean_squared_error: 70.5588\n",
      "\n",
      "Epoch 00040: val_loss did not improve from 3.22791\n",
      "Epoch 41/50\n",
      "1189/1189 [==============================] - 2s 2ms/step - loss: 21.7951 - mean_squared_error: 21.7951 - val_loss: 9.0150 - val_mean_squared_error: 9.0150\n",
      "\n",
      "Epoch 00041: val_loss did not improve from 3.22791\n",
      "Epoch 42/50\n",
      "1189/1189 [==============================] - 2s 2ms/step - loss: 16.2424 - mean_squared_error: 16.2424 - val_loss: 19.3854 - val_mean_squared_error: 19.3854\n",
      "\n",
      "Epoch 00042: val_loss did not improve from 3.22791\n",
      "Epoch 43/50\n",
      "1189/1189 [==============================] - 2s 2ms/step - loss: 14.9386 - mean_squared_error: 14.9386 - val_loss: 24.0307 - val_mean_squared_error: 24.0307\n",
      "\n",
      "Epoch 00043: val_loss did not improve from 3.22791\n",
      "Epoch 44/50\n",
      "1189/1189 [==============================] - 2s 2ms/step - loss: 14.3053 - mean_squared_error: 14.3053 - val_loss: 4.5032 - val_mean_squared_error: 4.5032\n",
      "\n",
      "Epoch 00044: val_loss did not improve from 3.22791\n",
      "Epoch 45/50\n",
      "1189/1189 [==============================] - 2s 2ms/step - loss: 14.2569 - mean_squared_error: 14.2569 - val_loss: 12.9117 - val_mean_squared_error: 12.9117\n",
      "\n",
      "Epoch 00045: val_loss did not improve from 3.22791\n",
      "Epoch 46/50\n",
      "1189/1189 [==============================] - 2s 2ms/step - loss: 12.9774 - mean_squared_error: 12.9774 - val_loss: 49.3509 - val_mean_squared_error: 49.3509\n",
      "\n",
      "Epoch 00046: val_loss did not improve from 3.22791\n",
      "Epoch 47/50\n",
      "1189/1189 [==============================] - 2s 2ms/step - loss: 17.8390 - mean_squared_error: 17.8390 - val_loss: 10.4464 - val_mean_squared_error: 10.4464\n",
      "\n",
      "Epoch 00047: val_loss did not improve from 3.22791\n",
      "Epoch 48/50\n",
      "1189/1189 [==============================] - 2s 2ms/step - loss: 14.6725 - mean_squared_error: 14.6725 - val_loss: 13.0217 - val_mean_squared_error: 13.0217\n",
      "\n",
      "Epoch 00048: val_loss did not improve from 3.22791\n",
      "Epoch 49/50\n",
      "1189/1189 [==============================] - 2s 2ms/step - loss: 13.6271 - mean_squared_error: 13.6271 - val_loss: 13.5281 - val_mean_squared_error: 13.5281\n",
      "\n",
      "Epoch 00049: val_loss did not improve from 3.22791\n",
      "Epoch 50/50\n",
      "1189/1189 [==============================] - 2s 2ms/step - loss: 11.9768 - mean_squared_error: 11.9768 - val_loss: 22.7446 - val_mean_squared_error: 22.7446\n",
      "\n",
      "Epoch 00050: val_loss did not improve from 3.22791\n"
     ]
    }
   ],
   "source": [
    "#Step 2 Build Model\n",
    "\n",
    "# Perform a grid search of the LSTM model.  Change these values to get a different set of models\n",
    "# For example, to also test a lag of 10 days, change N_input to [7,10]\n",
    "\n",
    "N_input = [100]\n",
    "N_nodes = [200]#,100]\n",
    "N_epochs = [50]\n",
    "N_batch = [50]\n",
    "N_diff = [12]\n",
    "N_split = [0.7] #This is the test train split, as a percentage\n",
    "\n",
    "cfg_list = Gs.model_configs(N_input, N_nodes, N_epochs, N_batch, N_diff, N_split)\n",
    "\n",
    "matrix =[lstm.model_fit(data, cfg) for cfg in cfg_list]\n",
    "\n",
    "\n"
   ]
  },
  {
   "cell_type": "code",
   "execution_count": null,
   "metadata": {},
   "outputs": [],
   "source": [
    "#for model in models:\n",
    "#    model.summary()\n",
    "\n",
    "model = Sequential()\n",
    "\n",
    "model.add(LSTM(\n",
    "    input_dim=1,\n",
    "    output_dim=50,\n",
    "    return_sequences=True))\n",
    "model.add(Dropout(0.2))\n",
    "\n",
    "model.add(LSTM(\n",
    "    100,\n",
    "    return_sequences=False))\n",
    "model.add(Dropout(0.2))\n",
    "model.add(Dense(\n",
    "    500))\n",
    "model.add(Dropout(0.2))\n",
    "model.add(Dense(\n",
    "    output_dim=1))\n",
    "model.add(Activation('linear'))\n",
    "\n",
    "start = time.time()\n",
    "model.compile(loss='mse', optimizer='rmsprop')\n",
    "print('compilation time : ', time.time() - start)"
   ]
  },
  {
   "cell_type": "code",
   "execution_count": 4,
   "metadata": {},
   "outputs": [],
   "source": [
    "model=matrix[0][0]\n",
    "X_test=matrix[0][1]\n",
    "Y_test=matrix[0][2]\n",
    "X_train=matrix[0][3]\n",
    "Y_train=matrix[0][4]\n",
    "#model.load_weights(\"LSTM-weights-best.hdf5\")"
   ]
  },
  {
   "cell_type": "code",
   "execution_count": null,
   "metadata": {},
   "outputs": [],
   "source": [
    "model.summary()"
   ]
  },
  {
   "cell_type": "code",
   "execution_count": 11,
   "metadata": {},
   "outputs": [
    {
     "data": {
      "image/png": "[encoded data removed]",
      "text/plain": [
       "<Figure size 432x288 with 1 Axes>"
      ]
     },
     "metadata": {},
     "output_type": "display_data"
    }
   ],
   "source": [
    "#Step 4 - Plot the predictions!\n",
    "window_size=30\n",
    "prediction_length=30\n",
    "\n",
    "#X_test=\n",
    "\n",
    "predictions = lstm.predict_sequences_multiple(model, X_train,window_size,prediction_length)\n",
    "lstm.plot_results_multiple(predictions, Y_train, prediction_length)\n",
    "\n",
    "# (4) TO DO: Implement the trading aspect of the model, and output parameters such as CAGR, Sharpe ratio etc."
   ]
  },
  {
   "cell_type": "code",
   "execution_count": null,
   "metadata": {},
   "outputs": [],
   "source": [
    "predictions[2]"
   ]
  },
  {
   "cell_type": "code",
   "execution_count": null,
   "metadata": {},
   "outputs": [],
   "source": [
    "np.mean(predictions[1])"
   ]
  },
  {
   "cell_type": "code",
   "execution_count": null,
   "metadata": {},
   "outputs": [],
   "source": [
    "Y_test[0]"
   ]
  },
  {
   "cell_type": "code",
   "execution_count": null,
   "metadata": {},
   "outputs": [],
   "source": [
    "length=math.floor(len(Y_test)/prediction_length)*prediction_length # prediction length\n",
    "#length=len(predictions)\n",
    "print(length)\n",
    "predict_trend=np.ones(length)\n",
    "predict_trend1=np.ones(length)\n",
    "\n",
    "for i in range(length):\n",
    "    step=math.floor(i/prediction_length)\n",
    "    #print(step)\n",
    "    av=np.mean(predictions[step])\n",
    "    predict_trend[i]=np.where(Y_test[step*prediction_length]>av,-1,1)\n",
    "    \n",
    "    f_l=predictions[step][0]<predictions[step][prediction_length-1]\n",
    "    predict_trend1[i]=np.where(f_l,1,-1)\n",
    "   \n",
    "    \n",
    "\n",
    "from sklearn.metrics import accuracy_score\n",
    "\n",
    "#acc= accuracy_score(list(y_test),list(predict_trend))"
   ]
  },
  {
   "cell_type": "code",
   "execution_count": null,
   "metadata": {},
   "outputs": [],
   "source": [
    "predict_trend"
   ]
  },
  {
   "cell_type": "code",
   "execution_count": null,
   "metadata": {},
   "outputs": [],
   "source": [
    "predict_trend1+predict_trend"
   ]
  },
  {
   "cell_type": "code",
   "execution_count": null,
   "metadata": {},
   "outputs": [],
   "source": []
  }
 ],
 "metadata": {
  "kernelspec": {
   "display_name": "Python 3",
   "language": "python",
   "name": "python3"
  },
  "language_info": {
   "codemirror_mode": {
    "name": "ipython",
    "version": 3
   },
   "file_extension": ".py",
   "mimetype": "text/x-python",
   "name": "python",
   "nbconvert_exporter": "python",
   "pygments_lexer": "ipython3",
   "version": "3.6.8"
  }
 },
 "nbformat": 4,
 "nbformat_minor": 2
}
