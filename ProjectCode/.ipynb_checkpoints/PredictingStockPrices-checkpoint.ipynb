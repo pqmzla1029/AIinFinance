{
 "cells": [
  {
   "cell_type": "code",
<<<<<<< HEAD:ProjectCode/stockdemo.ipynb
   "execution_count": 1,
   "metadata": {},
   "outputs": [
    {
     "name": "stderr",
     "output_type": "stream",
     "text": [
      "Using TensorFlow backend.\n"
     ]
    },
    {
     "ename": "SyntaxError",
     "evalue": "Missing parentheses in call to 'print'. Did you mean print('yo')? (lstm.py, line 17)",
     "output_type": "error",
     "traceback": [
      "Traceback \u001b[1;36m(most recent call last)\u001b[0m:\n",
      "  File \u001b[0;32m\"C:\\Users\\ramyg\\Anaconda3\\lib\\site-packages\\IPython\\core\\interactiveshell.py\"\u001b[0m, line \u001b[0;32m3291\u001b[0m, in \u001b[0;35mrun_code\u001b[0m\n    exec(code_obj, self.user_global_ns, self.user_ns)\n",
      "\u001b[1;36m  File \u001b[1;32m\"<ipython-input-1-a670dc9668e6>\"\u001b[1;36m, line \u001b[1;32m4\u001b[1;36m, in \u001b[1;35m<module>\u001b[1;36m\u001b[0m\n\u001b[1;33m    import lstm, time #helper libraries\u001b[0m\n",
      "\u001b[1;36m  File \u001b[1;32m\"C:\\Users\\ramyg\\Documents\\GitHub\\AIinFinance\\ProjectCode\\lstm.py\"\u001b[1;36m, line \u001b[1;32m17\u001b[0m\n\u001b[1;33m    print 'yo'\u001b[0m\n\u001b[1;37m             ^\u001b[0m\n\u001b[1;31mSyntaxError\u001b[0m\u001b[1;31m:\u001b[0m Missing parentheses in call to 'print'. Did you mean print('yo')?\n"
     ]
    }
   ],
=======
   "execution_count": 7,
   "metadata": {},
   "outputs": [],
>>>>>>> b781c86e2abf2dd5157f5ef2aa795a31f3613dfd:ProjectCode/.ipynb_checkpoints/PredictingStockPrices-checkpoint.ipynb
   "source": [
    "from keras.layers.core import Dense, Activation, Dropout\n",
    "from keras.layers.recurrent import LSTM\n",
    "from keras.models import Sequential\n",
    "import lstm, time #helper libraries"
   ]
  },
  {
   "cell_type": "code",
<<<<<<< HEAD:ProjectCode/stockdemo.ipynb
   "execution_count": null,
   "metadata": {},
   "outputs": [],
=======
   "execution_count": 24,
   "metadata": {},
   "outputs": [
    {
     "name": "stdout",
     "output_type": "stream",
     "text": [
      "[[['1526.75']\n",
      "  ['1547.040039']\n",
      "  ['1546.630005']\n",
      "  ...\n",
      "  ['1520.27002']\n",
      "  ['1475.619995']\n",
      "  ['1474.77002']]\n",
      "\n",
      " [['1831.369995']\n",
      "  ['1826.77002']\n",
      "  ['1837.880005']\n",
      "  ...\n",
      "  ['1819.26001']\n",
      "  ['1829.829956']\n",
      "  ['1838.630005']]\n",
      "\n",
      " [['1190.48999']\n",
      "  ['1202.930054']\n",
      "  ['1205.819946']\n",
      "  ...\n",
      "  ['1133.579956']\n",
      "  ['1132.939941']\n",
      "  ['1131.73999']]\n",
      "\n",
      " ...\n",
      "\n",
      " [['1530.619995']\n",
      "  ['1536.339966']\n",
      "  ['1539.180054']\n",
      "  ...\n",
      "  ['1510.119995']\n",
      "  ['1518.76001']\n",
      "  ['1547.699951']]\n",
      "\n",
      " [['1267.380005']\n",
      "  ['1260.310059']\n",
      "  ['1249.01001']\n",
      "  ...\n",
      "  ['1224.51001']\n",
      "  ['1232.040039']\n",
      "  ['1249.050049']]\n",
      "\n",
      " [['1211.670044']\n",
      "  ['1192.130005']\n",
      "  ['1197.52002']\n",
      "  ...\n",
      "  ['1073.650024']\n",
      "  ['1074.030029']\n",
      "  ['1067.949951']]]\n",
      "3727\n"
     ]
    }
   ],
>>>>>>> b781c86e2abf2dd5157f5ef2aa795a31f3613dfd:ProjectCode/.ipynb_checkpoints/PredictingStockPrices-checkpoint.ipynb
   "source": [
    "#Step 1 Load Data\n",
    "\n",
    "# (1) TO DO: Make the loading of data dynamic based on user input\n",
    "\n",
    "# (2) TO DO: Update the X_train, X_test to use additional inputs (need to figure these out)\n",
    "\n",
    "X_train, y_train, X_test, y_test = lstm.load_data('sp500.csv', 30, False)"
   ]
  },
  {
   "cell_type": "code",
<<<<<<< HEAD:ProjectCode/stockdemo.ipynb
   "execution_count": null,
   "metadata": {},
   "outputs": [],
=======
   "execution_count": 4,
   "metadata": {},
   "outputs": [
    {
     "name": "stdout",
     "output_type": "stream",
     "text": [
      "compilation time :  0.0409510135651\n"
     ]
    }
   ],
>>>>>>> b781c86e2abf2dd5157f5ef2aa795a31f3613dfd:ProjectCode/.ipynb_checkpoints/PredictingStockPrices-checkpoint.ipynb
   "source": [
    "#Step 2 Build Model\n",
    "\n",
    "# (3) TO DO: Use RandomSearch to find the best parameters:\n",
    "\n",
    "# Dropout ratio\n",
    "# Number of neurons\n",
    "# Activation function\n",
    "# Momentum\n",
    "# Anything else?\n",
    "\n",
    "model = Sequential()\n",
    "\n",
    "model.add(LSTM(\n",
    "    input_dim=1,\n",
    "    output_dim=50,\n",
    "    return_sequences=True))\n",
    "model.add(Dropout(0.2))\n",
    "\n",
    "model.add(LSTM(\n",
    "    100,\n",
    "    return_sequences=False))\n",
    "model.add(Dropout(0.2))\n",
    "\n",
    "model.add(Dense(\n",
    "    output_dim=1))\n",
    "model.add(Activation('linear'))\n",
    "\n",
    "start = time.time()\n",
    "model.compile(loss='mse', optimizer='rmsprop')\n",
    "print('compilation time : ', time.time() - start)"
   ]
  },
  {
   "cell_type": "code",
<<<<<<< HEAD:ProjectCode/stockdemo.ipynb
   "execution_count": null,
   "metadata": {},
   "outputs": [],
=======
   "execution_count": 5,
   "metadata": {},
   "outputs": [
    {
     "name": "stdout",
     "output_type": "stream",
     "text": [
      "Train on 3523 samples, validate on 186 samples\n",
      "Epoch 1/1\n",
      "3523/3523 [==============================] - 8s - loss: 0.0098 - val_loss: 0.0011\n"
     ]
    },
    {
     "data": {
      "text/plain": [
       "<keras.callbacks.History at 0x10f8b9b90>"
      ]
     },
     "execution_count": 5,
     "metadata": {},
     "output_type": "execute_result"
    }
   ],
>>>>>>> b781c86e2abf2dd5157f5ef2aa795a31f3613dfd:ProjectCode/.ipynb_checkpoints/PredictingStockPrices-checkpoint.ipynb
   "source": [
    "#Step 3 Train the model\n",
    "model.fit(\n",
    "    X_train,\n",
    "    y_train,\n",
    "    batch_size=512,\n",
    "    nb_epoch=1,\n",
    "    validation_split=0.05)"
   ]
  },
  {
   "cell_type": "code",
<<<<<<< HEAD:ProjectCode/stockdemo.ipynb
   "execution_count": 2,
=======
   "execution_count": 6,
>>>>>>> b781c86e2abf2dd5157f5ef2aa795a31f3613dfd:ProjectCode/.ipynb_checkpoints/PredictingStockPrices-checkpoint.ipynb
   "metadata": {},
   "outputs": [
    {
     "ename": "NameError",
     "evalue": "name 'lstm' is not defined",
     "output_type": "error",
     "traceback": [
      "\u001b[1;31m---------------------------------------------------------------------------\u001b[0m",
      "\u001b[1;31mNameError\u001b[0m                                 Traceback (most recent call last)",
      "\u001b[1;32m<ipython-input-2-3e194fb10b2e>\u001b[0m in \u001b[0;36m<module>\u001b[1;34m\u001b[0m\n\u001b[0;32m      1\u001b[0m \u001b[1;31m#Step 4 - Plot the predictions!\u001b[0m\u001b[1;33m\u001b[0m\u001b[1;33m\u001b[0m\u001b[1;33m\u001b[0m\u001b[0m\n\u001b[1;32m----> 2\u001b[1;33m \u001b[0mpredictions\u001b[0m \u001b[1;33m=\u001b[0m \u001b[0mlstm\u001b[0m\u001b[1;33m.\u001b[0m\u001b[0mpredict_sequences_multiple\u001b[0m\u001b[1;33m(\u001b[0m\u001b[0mmodel\u001b[0m\u001b[1;33m,\u001b[0m \u001b[0mX_test\u001b[0m\u001b[1;33m,\u001b[0m \u001b[1;36m50\u001b[0m\u001b[1;33m,\u001b[0m \u001b[1;36m50\u001b[0m\u001b[1;33m)\u001b[0m\u001b[1;33m\u001b[0m\u001b[1;33m\u001b[0m\u001b[0m\n\u001b[0m\u001b[0;32m      3\u001b[0m \u001b[0mlstm\u001b[0m\u001b[1;33m.\u001b[0m\u001b[0mplot_results_multiple\u001b[0m\u001b[1;33m(\u001b[0m\u001b[0mpredictions\u001b[0m\u001b[1;33m,\u001b[0m \u001b[0my_test\u001b[0m\u001b[1;33m,\u001b[0m \u001b[1;36m50\u001b[0m\u001b[1;33m)\u001b[0m\u001b[1;33m\u001b[0m\u001b[1;33m\u001b[0m\u001b[0m\n",
      "\u001b[1;31mNameError\u001b[0m: name 'lstm' is not defined"
     ]
    }
   ],
   "source": [
    "#Step 4 - Plot the predictions!\n",
    "predictions = lstm.predict_sequences_multiple(model, X_test, 50, 50)\n",
    "lstm.plot_results_multiple(predictions, y_test, 50)\n",
    "\n",
    "# (4) TO DO: Implement the trading aspect of the model, and output parameters such as CAGR, Sharpe ratio etc."
   ]
  },
  {
   "cell_type": "code",
   "execution_count": null,
   "metadata": {
    "collapsed": true
   },
   "outputs": [],
   "source": []
  }
 ],
 "metadata": {
  "kernelspec": {
   "display_name": "Python 3",
   "language": "python",
   "name": "python3"
  },
  "language_info": {
   "codemirror_mode": {
    "name": "ipython",
    "version": 3
   },
   "file_extension": ".py",
   "mimetype": "text/x-python",
   "name": "python",
   "nbconvert_exporter": "python",
   "pygments_lexer": "ipython3",
<<<<<<< HEAD:ProjectCode/stockdemo.ipynb
   "version": "3.6.8"
=======
   "version": "3.5.6"
>>>>>>> b781c86e2abf2dd5157f5ef2aa795a31f3613dfd:ProjectCode/.ipynb_checkpoints/PredictingStockPrices-checkpoint.ipynb
  }
 },
 "nbformat": 4,
 "nbformat_minor": 2
}
